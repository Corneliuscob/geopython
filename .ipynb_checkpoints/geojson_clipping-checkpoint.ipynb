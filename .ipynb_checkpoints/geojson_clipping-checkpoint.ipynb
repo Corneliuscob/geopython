{
 "cells": [
  {
   "cell_type": "code",
   "execution_count": 1,
   "id": "1df1f674",
   "metadata": {},
   "outputs": [],
   "source": [
    "import geopandas as gpd\n",
    "\n",
    "gdf = gpd.read_file('contours_1m.json')"
   ]
  },
  {
   "cell_type": "code",
   "execution_count": 2,
   "id": "f3eb1148",
   "metadata": {},
   "outputs": [
    {
     "data": {
      "text/html": [
       "<div>\n",
       "<style scoped>\n",
       "    .dataframe tbody tr th:only-of-type {\n",
       "        vertical-align: middle;\n",
       "    }\n",
       "\n",
       "    .dataframe tbody tr th {\n",
       "        vertical-align: top;\n",
       "    }\n",
       "\n",
       "    .dataframe thead th {\n",
       "        text-align: right;\n",
       "    }\n",
       "</style>\n",
       "<table border=\"1\" class=\"dataframe\">\n",
       "  <thead>\n",
       "    <tr style=\"text-align: right;\">\n",
       "      <th></th>\n",
       "      <th>CONTOUR_TYPE</th>\n",
       "      <th>ELEVATION</th>\n",
       "      <th>geometry</th>\n",
       "    </tr>\n",
       "  </thead>\n",
       "  <tbody>\n",
       "    <tr>\n",
       "      <th>0</th>\n",
       "      <td>Contour 1m</td>\n",
       "      <td>1</td>\n",
       "      <td>LINESTRING (512673.384 5437500.000, 512673.280...</td>\n",
       "    </tr>\n",
       "    <tr>\n",
       "      <th>1</th>\n",
       "      <td>Contour 1m</td>\n",
       "      <td>1</td>\n",
       "      <td>LINESTRING (512590.381 5437500.000, 512590.368...</td>\n",
       "    </tr>\n",
       "    <tr>\n",
       "      <th>2</th>\n",
       "      <td>Contour 1m</td>\n",
       "      <td>3</td>\n",
       "      <td>LINESTRING (512828.158 5435903.488, 512828.177...</td>\n",
       "    </tr>\n",
       "    <tr>\n",
       "      <th>3</th>\n",
       "      <td>Contour 1m</td>\n",
       "      <td>7</td>\n",
       "      <td>LINESTRING (512947.170 5435808.390, 512947.430...</td>\n",
       "    </tr>\n",
       "    <tr>\n",
       "      <th>4</th>\n",
       "      <td>Contour 1m</td>\n",
       "      <td>6</td>\n",
       "      <td>LINESTRING (512960.340 5435834.750, 512960.450...</td>\n",
       "    </tr>\n",
       "    <tr>\n",
       "      <th>...</th>\n",
       "      <td>...</td>\n",
       "      <td>...</td>\n",
       "      <td>...</td>\n",
       "    </tr>\n",
       "    <tr>\n",
       "      <th>98359</th>\n",
       "      <td>Contour 1m</td>\n",
       "      <td>2</td>\n",
       "      <td>LINESTRING (509910.483 5451062.436, 509910.520...</td>\n",
       "    </tr>\n",
       "    <tr>\n",
       "      <th>98360</th>\n",
       "      <td>Contour 1m</td>\n",
       "      <td>2</td>\n",
       "      <td>LINESTRING (509500.000 5451088.409, 509500.198...</td>\n",
       "    </tr>\n",
       "    <tr>\n",
       "      <th>98361</th>\n",
       "      <td>Contour 1m</td>\n",
       "      <td>6</td>\n",
       "      <td>LINESTRING (509957.049 5450500.000, 509957.269...</td>\n",
       "    </tr>\n",
       "    <tr>\n",
       "      <th>98362</th>\n",
       "      <td>Contour 1m</td>\n",
       "      <td>2</td>\n",
       "      <td>LINESTRING (509934.769 5450938.033, 509934.760...</td>\n",
       "    </tr>\n",
       "    <tr>\n",
       "      <th>98363</th>\n",
       "      <td>Contour 1m</td>\n",
       "      <td>8</td>\n",
       "      <td>LINESTRING (509982.740 5450500.000, 509982.901...</td>\n",
       "    </tr>\n",
       "  </tbody>\n",
       "</table>\n",
       "<p>98364 rows × 3 columns</p>\n",
       "</div>"
      ],
      "text/plain": [
       "      CONTOUR_TYPE  ELEVATION  \\\n",
       "0       Contour 1m          1   \n",
       "1       Contour 1m          1   \n",
       "2       Contour 1m          3   \n",
       "3       Contour 1m          7   \n",
       "4       Contour 1m          6   \n",
       "...            ...        ...   \n",
       "98359   Contour 1m          2   \n",
       "98360   Contour 1m          2   \n",
       "98361   Contour 1m          6   \n",
       "98362   Contour 1m          2   \n",
       "98363   Contour 1m          8   \n",
       "\n",
       "                                                geometry  \n",
       "0      LINESTRING (512673.384 5437500.000, 512673.280...  \n",
       "1      LINESTRING (512590.381 5437500.000, 512590.368...  \n",
       "2      LINESTRING (512828.158 5435903.488, 512828.177...  \n",
       "3      LINESTRING (512947.170 5435808.390, 512947.430...  \n",
       "4      LINESTRING (512960.340 5435834.750, 512960.450...  \n",
       "...                                                  ...  \n",
       "98359  LINESTRING (509910.483 5451062.436, 509910.520...  \n",
       "98360  LINESTRING (509500.000 5451088.409, 509500.198...  \n",
       "98361  LINESTRING (509957.049 5450500.000, 509957.269...  \n",
       "98362  LINESTRING (509934.769 5450938.033, 509934.760...  \n",
       "98363  LINESTRING (509982.740 5450500.000, 509982.901...  \n",
       "\n",
       "[98364 rows x 3 columns]"
      ]
     },
     "execution_count": 2,
     "metadata": {},
     "output_type": "execute_result"
    }
   ],
   "source": [
    "gdf"
   ]
  },
  {
   "cell_type": "code",
   "execution_count": 3,
   "id": "da43cc72",
   "metadata": {},
   "outputs": [
    {
     "data": {
      "text/plain": [
       "<Projected CRS: EPSG:26910>\n",
       "Name: NAD83 / UTM zone 10N\n",
       "Axis Info [cartesian]:\n",
       "- E[east]: Easting (metre)\n",
       "- N[north]: Northing (metre)\n",
       "Area of Use:\n",
       "- name: North America - 126°W to 120°W and NAD83 by country\n",
       "- bounds: (-126.0, 30.54, -119.99, 81.8)\n",
       "Coordinate Operation:\n",
       "- name: UTM zone 10N\n",
       "- method: Transverse Mercator\n",
       "Datum: North American Datum 1983\n",
       "- Ellipsoid: GRS 1980\n",
       "- Prime Meridian: Greenwich"
      ]
     },
     "execution_count": 3,
     "metadata": {},
     "output_type": "execute_result"
    }
   ],
   "source": [
    "gdf.crs"
   ]
  },
  {
   "cell_type": "code",
   "execution_count": 4,
   "id": "23c5baaa",
   "metadata": {},
   "outputs": [
    {
     "ename": "AttributeError",
     "evalue": "'NoneType' object has no attribute 'simplify'",
     "output_type": "error",
     "traceback": [
      "\u001b[0;31m---------------------------------------------------------------------------\u001b[0m",
      "\u001b[0;31mAttributeError\u001b[0m                            Traceback (most recent call last)",
      "\u001b[0;32m/tmp/ipykernel_25683/4032449281.py\u001b[0m in \u001b[0;36m<module>\u001b[0;34m\u001b[0m\n\u001b[0;32m----> 1\u001b[0;31m \u001b[0msimp_gdf\u001b[0m \u001b[0;34m=\u001b[0m \u001b[0mgdf\u001b[0m\u001b[0;34m.\u001b[0m\u001b[0msimplify\u001b[0m\u001b[0;34m(\u001b[0m\u001b[0;36m0.2\u001b[0m\u001b[0;34m,\u001b[0m\u001b[0mpreserve_topology\u001b[0m \u001b[0;34m=\u001b[0m \u001b[0;32mTrue\u001b[0m\u001b[0;34m)\u001b[0m\u001b[0;34m\u001b[0m\u001b[0;34m\u001b[0m\u001b[0m\n\u001b[0m",
      "\u001b[0;32m~/anaconda3/envs/geopack/lib/python3.8/site-packages/geopandas/base.py\u001b[0m in \u001b[0;36msimplify\u001b[0;34m(self, *args, **kwargs)\u001b[0m\n\u001b[1;32m   2757\u001b[0m         \u001b[0mdtype\u001b[0m\u001b[0;34m:\u001b[0m \u001b[0mgeometry\u001b[0m\u001b[0;34m\u001b[0m\u001b[0;34m\u001b[0m\u001b[0m\n\u001b[1;32m   2758\u001b[0m         \"\"\"\n\u001b[0;32m-> 2759\u001b[0;31m         \u001b[0;32mreturn\u001b[0m \u001b[0m_delegate_geo_method\u001b[0m\u001b[0;34m(\u001b[0m\u001b[0;34m\"simplify\"\u001b[0m\u001b[0;34m,\u001b[0m \u001b[0mself\u001b[0m\u001b[0;34m,\u001b[0m \u001b[0;34m*\u001b[0m\u001b[0margs\u001b[0m\u001b[0;34m,\u001b[0m \u001b[0;34m**\u001b[0m\u001b[0mkwargs\u001b[0m\u001b[0;34m)\u001b[0m\u001b[0;34m\u001b[0m\u001b[0;34m\u001b[0m\u001b[0m\n\u001b[0m\u001b[1;32m   2760\u001b[0m \u001b[0;34m\u001b[0m\u001b[0m\n\u001b[1;32m   2761\u001b[0m     \u001b[0;32mdef\u001b[0m \u001b[0mrelate\u001b[0m\u001b[0;34m(\u001b[0m\u001b[0mself\u001b[0m\u001b[0;34m,\u001b[0m \u001b[0mother\u001b[0m\u001b[0;34m,\u001b[0m \u001b[0malign\u001b[0m\u001b[0;34m=\u001b[0m\u001b[0;32mTrue\u001b[0m\u001b[0;34m)\u001b[0m\u001b[0;34m:\u001b[0m\u001b[0;34m\u001b[0m\u001b[0;34m\u001b[0m\u001b[0m\n",
      "\u001b[0;32m~/anaconda3/envs/geopack/lib/python3.8/site-packages/geopandas/base.py\u001b[0m in \u001b[0;36m_delegate_geo_method\u001b[0;34m(op, this, *args, **kwargs)\u001b[0m\n\u001b[1;32m     80\u001b[0m \u001b[0;34m\u001b[0m\u001b[0m\n\u001b[1;32m     81\u001b[0m     \u001b[0ma_this\u001b[0m \u001b[0;34m=\u001b[0m \u001b[0mGeometryArray\u001b[0m\u001b[0;34m(\u001b[0m\u001b[0mthis\u001b[0m\u001b[0;34m.\u001b[0m\u001b[0mgeometry\u001b[0m\u001b[0;34m.\u001b[0m\u001b[0mvalues\u001b[0m\u001b[0;34m)\u001b[0m\u001b[0;34m\u001b[0m\u001b[0;34m\u001b[0m\u001b[0m\n\u001b[0;32m---> 82\u001b[0;31m     \u001b[0mdata\u001b[0m \u001b[0;34m=\u001b[0m \u001b[0mgetattr\u001b[0m\u001b[0;34m(\u001b[0m\u001b[0ma_this\u001b[0m\u001b[0;34m,\u001b[0m \u001b[0mop\u001b[0m\u001b[0;34m)\u001b[0m\u001b[0;34m(\u001b[0m\u001b[0;34m*\u001b[0m\u001b[0margs\u001b[0m\u001b[0;34m,\u001b[0m \u001b[0;34m**\u001b[0m\u001b[0mkwargs\u001b[0m\u001b[0;34m)\u001b[0m\u001b[0;34m.\u001b[0m\u001b[0mdata\u001b[0m\u001b[0;34m\u001b[0m\u001b[0;34m\u001b[0m\u001b[0m\n\u001b[0m\u001b[1;32m     83\u001b[0m     \u001b[0;32mreturn\u001b[0m \u001b[0mGeoSeries\u001b[0m\u001b[0;34m(\u001b[0m\u001b[0mdata\u001b[0m\u001b[0;34m,\u001b[0m \u001b[0mindex\u001b[0m\u001b[0;34m=\u001b[0m\u001b[0mthis\u001b[0m\u001b[0;34m.\u001b[0m\u001b[0mindex\u001b[0m\u001b[0;34m,\u001b[0m \u001b[0mcrs\u001b[0m\u001b[0;34m=\u001b[0m\u001b[0mthis\u001b[0m\u001b[0;34m.\u001b[0m\u001b[0mcrs\u001b[0m\u001b[0;34m)\u001b[0m\u001b[0;34m\u001b[0m\u001b[0;34m\u001b[0m\u001b[0m\n\u001b[1;32m     84\u001b[0m \u001b[0;34m\u001b[0m\u001b[0m\n",
      "\u001b[0;32m~/anaconda3/envs/geopack/lib/python3.8/site-packages/geopandas/array.py\u001b[0m in \u001b[0;36msimplify\u001b[0;34m(self, tolerance, preserve_topology)\u001b[0m\n\u001b[1;32m    644\u001b[0m     \u001b[0;32mdef\u001b[0m \u001b[0msimplify\u001b[0m\u001b[0;34m(\u001b[0m\u001b[0mself\u001b[0m\u001b[0;34m,\u001b[0m \u001b[0mtolerance\u001b[0m\u001b[0;34m,\u001b[0m \u001b[0mpreserve_topology\u001b[0m\u001b[0;34m=\u001b[0m\u001b[0;32mTrue\u001b[0m\u001b[0;34m)\u001b[0m\u001b[0;34m:\u001b[0m\u001b[0;34m\u001b[0m\u001b[0;34m\u001b[0m\u001b[0m\n\u001b[1;32m    645\u001b[0m         return GeometryArray(\n\u001b[0;32m--> 646\u001b[0;31m             vectorized.simplify(\n\u001b[0m\u001b[1;32m    647\u001b[0m                 \u001b[0mself\u001b[0m\u001b[0;34m.\u001b[0m\u001b[0mdata\u001b[0m\u001b[0;34m,\u001b[0m \u001b[0mtolerance\u001b[0m\u001b[0;34m,\u001b[0m \u001b[0mpreserve_topology\u001b[0m\u001b[0;34m=\u001b[0m\u001b[0mpreserve_topology\u001b[0m\u001b[0;34m\u001b[0m\u001b[0;34m\u001b[0m\u001b[0m\n\u001b[1;32m    648\u001b[0m             ),\n",
      "\u001b[0;32m~/anaconda3/envs/geopack/lib/python3.8/site-packages/geopandas/_vectorized.py\u001b[0m in \u001b[0;36msimplify\u001b[0;34m(data, tolerance, preserve_topology)\u001b[0m\n\u001b[1;32m    822\u001b[0m         \u001b[0mout\u001b[0m \u001b[0;34m=\u001b[0m \u001b[0mnp\u001b[0m\u001b[0;34m.\u001b[0m\u001b[0mempty\u001b[0m\u001b[0;34m(\u001b[0m\u001b[0mlen\u001b[0m\u001b[0;34m(\u001b[0m\u001b[0mdata\u001b[0m\u001b[0;34m)\u001b[0m\u001b[0;34m,\u001b[0m \u001b[0mdtype\u001b[0m\u001b[0;34m=\u001b[0m\u001b[0mobject\u001b[0m\u001b[0;34m)\u001b[0m\u001b[0;34m\u001b[0m\u001b[0;34m\u001b[0m\u001b[0m\n\u001b[1;32m    823\u001b[0m         \u001b[0;32mwith\u001b[0m \u001b[0mcompat\u001b[0m\u001b[0;34m.\u001b[0m\u001b[0mignore_shapely2_warnings\u001b[0m\u001b[0;34m(\u001b[0m\u001b[0;34m)\u001b[0m\u001b[0;34m:\u001b[0m\u001b[0;34m\u001b[0m\u001b[0;34m\u001b[0m\u001b[0m\n\u001b[0;32m--> 824\u001b[0;31m             out[:] = [\n\u001b[0m\u001b[1;32m    825\u001b[0m                 \u001b[0mgeom\u001b[0m\u001b[0;34m.\u001b[0m\u001b[0msimplify\u001b[0m\u001b[0;34m(\u001b[0m\u001b[0mtolerance\u001b[0m\u001b[0;34m,\u001b[0m \u001b[0mpreserve_topology\u001b[0m\u001b[0;34m=\u001b[0m\u001b[0mpreserve_topology\u001b[0m\u001b[0;34m)\u001b[0m\u001b[0;34m\u001b[0m\u001b[0;34m\u001b[0m\u001b[0m\n\u001b[1;32m    826\u001b[0m                 \u001b[0;32mfor\u001b[0m \u001b[0mgeom\u001b[0m \u001b[0;32min\u001b[0m \u001b[0mdata\u001b[0m\u001b[0;34m\u001b[0m\u001b[0;34m\u001b[0m\u001b[0m\n",
      "\u001b[0;32m~/anaconda3/envs/geopack/lib/python3.8/site-packages/geopandas/_vectorized.py\u001b[0m in \u001b[0;36m<listcomp>\u001b[0;34m(.0)\u001b[0m\n\u001b[1;32m    823\u001b[0m         \u001b[0;32mwith\u001b[0m \u001b[0mcompat\u001b[0m\u001b[0;34m.\u001b[0m\u001b[0mignore_shapely2_warnings\u001b[0m\u001b[0;34m(\u001b[0m\u001b[0;34m)\u001b[0m\u001b[0;34m:\u001b[0m\u001b[0;34m\u001b[0m\u001b[0;34m\u001b[0m\u001b[0m\n\u001b[1;32m    824\u001b[0m             out[:] = [\n\u001b[0;32m--> 825\u001b[0;31m                 \u001b[0mgeom\u001b[0m\u001b[0;34m.\u001b[0m\u001b[0msimplify\u001b[0m\u001b[0;34m(\u001b[0m\u001b[0mtolerance\u001b[0m\u001b[0;34m,\u001b[0m \u001b[0mpreserve_topology\u001b[0m\u001b[0;34m=\u001b[0m\u001b[0mpreserve_topology\u001b[0m\u001b[0;34m)\u001b[0m\u001b[0;34m\u001b[0m\u001b[0;34m\u001b[0m\u001b[0m\n\u001b[0m\u001b[1;32m    826\u001b[0m                 \u001b[0;32mfor\u001b[0m \u001b[0mgeom\u001b[0m \u001b[0;32min\u001b[0m \u001b[0mdata\u001b[0m\u001b[0;34m\u001b[0m\u001b[0;34m\u001b[0m\u001b[0m\n\u001b[1;32m    827\u001b[0m             ]\n",
      "\u001b[0;31mAttributeError\u001b[0m: 'NoneType' object has no attribute 'simplify'"
     ]
    }
   ],
   "source": [
    "simp_gdf = gdf.simplify(0.2,preserve_topology = True)"
   ]
  },
  {
   "cell_type": "code",
   "execution_count": 5,
   "id": "0b90254e",
   "metadata": {},
   "outputs": [
    {
     "data": {
      "text/plain": [
       "<AxesSubplot:>"
      ]
     },
     "execution_count": 5,
     "metadata": {},
     "output_type": "execute_result"
    },
    {
     "data": {
      "image/png": "[encoded data removed]",
      "text/plain": [
       "<Figure size 432x288 with 1 Axes>"
      ]
     },
     "metadata": {
      "needs_background": "light"
     },
     "output_type": "display_data"
    }
   ],
   "source": [
    "gdf.plot()"
   ]
  },
  {
   "cell_type": "code",
   "execution_count": 9,
   "id": "dce30566",
   "metadata": {},
   "outputs": [],
   "source": [
    "import pyproj\n",
    "import json\n",
    "from shapely.geometry import Point, mapping\n",
    "from functools import partial\n",
    "from shapely.ops import transform\n",
    "\n",
    "point = Point(-22.758004,49.009615)\n",
    "\n",
    "# Next create a circle basing on point and with buffer - in here 1000 (meters!):\n",
    "\n",
    "local_azimuthal_projection = f\"+proj=aeqd +R=6371000 +units=m +lat_0={point.y} +lon_0={point.x}\"\n",
    "\n",
    "wgs84_to_aeqd = partial(\n",
    "    pyproj.transform,\n",
    "    pyproj.Proj('+proj=longlat +datum=WGS84 +no_defs'),\n",
    "    pyproj.Proj(local_azimuthal_projection),\n",
    ")\n",
    "\n",
    "aeqd_to_wgs84 = partial(\n",
    "    pyproj.transform,\n",
    "    pyproj.Proj(local_azimuthal_projection),\n",
    "    pyproj.Proj('+proj=longlat +datum=WGS84 +no_defs'),\n",
    ")\n",
    "\n",
    "aeqd_to_27700 = partial(\n",
    "    pyproj.transform,\n",
    "    pyproj.Proj(local_azimuthal_projection),\n",
    "    pyproj.Proj('+proj=tmerc +lat_0=49 +lon_0=-2 +k=0.9996012717 +x_0=400000 +y_0=-100000 +ellps=airy +datum=OSGB36 +units=m +no_defs'),\n",
    ")\n",
    "\n",
    "point_transformed = transform(wgs84_to_aeqd, point)\n",
    "loc_buffer = point_transformed.buffer(1000)\n"
   ]
  },
  {
   "cell_type": "code",
   "execution_count": 10,
   "id": "89314dc8",
   "metadata": {},
   "outputs": [],
   "source": [
    "buffer_wgs84 = transform(aeqd_to_27700, loc_buffer)"
   ]
  },
  {
   "cell_type": "code",
   "execution_count": 13,
   "id": "87477b31",
   "metadata": {},
   "outputs": [],
   "source": [
    "clipped = gpd.clip(gdf,buffer_wgs84)"
   ]
  },
  {
   "cell_type": "code",
   "execution_count": 14,
   "id": "8eac4d79",
   "metadata": {},
   "outputs": [
    {
     "name": "stderr",
     "output_type": "stream",
     "text": [
      "/home/ngaito/anaconda3/envs/geopack/lib/python3.8/site-packages/geopandas/plotting.py:678: UserWarning: The GeoDataFrame you are attempting to plot is empty. Nothing has been displayed.\n",
      "  warnings.warn(\n"
     ]
    },
    {
     "data": {
      "text/plain": [
       "<AxesSubplot:>"
      ]
     },
     "execution_count": 14,
     "metadata": {},
     "output_type": "execute_result"
    },
    {
     "data": {
      "image/png": "[encoded data removed]",
      "text/plain": [
       "<Figure size 432x288 with 1 Axes>"
      ]
     },
     "metadata": {
      "needs_background": "light"
     },
     "output_type": "display_data"
    }
   ],
   "source": [
    "clipped.plot()"
   ]
  },
  {
   "cell_type": "code",
   "execution_count": 15,
   "id": "3a605c0c",
   "metadata": {},
   "outputs": [
    {
     "data": {
      "text/html": [
       "<div>\n",
       "<style scoped>\n",
       "    .dataframe tbody tr th:only-of-type {\n",
       "        vertical-align: middle;\n",
       "    }\n",
       "\n",
       "    .dataframe tbody tr th {\n",
       "        vertical-align: top;\n",
       "    }\n",
       "\n",
       "    .dataframe thead th {\n",
       "        text-align: right;\n",
       "    }\n",
       "</style>\n",
       "<table border=\"1\" class=\"dataframe\">\n",
       "  <thead>\n",
       "    <tr style=\"text-align: right;\">\n",
       "      <th></th>\n",
       "      <th>CONTOUR_TYPE</th>\n",
       "      <th>ELEVATION</th>\n",
       "      <th>geometry</th>\n",
       "    </tr>\n",
       "  </thead>\n",
       "  <tbody>\n",
       "  </tbody>\n",
       "</table>\n",
       "</div>"
      ],
      "text/plain": [
       "Empty GeoDataFrame\n",
       "Columns: [CONTOUR_TYPE, ELEVATION, geometry]\n",
       "Index: []"
      ]
     },
     "execution_count": 15,
     "metadata": {},
     "output_type": "execute_result"
    }
   ],
   "source": [
    "clipped"
   ]
  },
  {
   "cell_type": "code",
   "execution_count": 16,
   "id": "761352d9",
   "metadata": {},
   "outputs": [
    {
     "data": {
      "text/plain": [
       "shapely.geometry.polygon.Polygon"
      ]
     },
     "execution_count": 16,
     "metadata": {},
     "output_type": "execute_result"
    }
   ],
   "source": [
    "type(buffer_wgs84)"
   ]
  },
  {
   "cell_type": "code",
   "execution_count": 17,
   "id": "a9bf6d91",
   "metadata": {},
   "outputs": [
    {
     "ename": "AttributeError",
     "evalue": "'Polygon' object has no attribute 'crs'",
     "output_type": "error",
     "traceback": [
      "\u001b[0;31m---------------------------------------------------------------------------\u001b[0m",
      "\u001b[0;31mAttributeError\u001b[0m                            Traceback (most recent call last)",
      "\u001b[0;32m/tmp/ipykernel_25683/1607375147.py\u001b[0m in \u001b[0;36m<module>\u001b[0;34m\u001b[0m\n\u001b[0;32m----> 1\u001b[0;31m \u001b[0mbuffer_wgs84\u001b[0m\u001b[0;34m.\u001b[0m\u001b[0mcrs\u001b[0m\u001b[0;34m\u001b[0m\u001b[0;34m\u001b[0m\u001b[0m\n\u001b[0m",
      "\u001b[0;31mAttributeError\u001b[0m: 'Polygon' object has no attribute 'crs'"
     ]
    }
   ],
   "source": [
    "buffer_wgs84.crs"
   ]
  },
  {
   "cell_type": "code",
   "execution_count": null,
   "id": "8fd455dc",
   "metadata": {},
   "outputs": [],
   "source": [
    "#create a polygopn bounding box \n",
    "#with lat and long from here https://www.findlatitudeandlongitude.com/\n",
    "\n",
    "lat_point_list = [49.002238,49.016566,49.01651,49.002154]\n",
    "lon_point_list = [-122.79034,-122.790305,-122.75847,-122.757303]\n",
    "polygon_geom = Polygon(zip(lon_point_list, lat_point_list))\n",
    "crs = {'init': 'epsg:26910'}\n",
    "polygon = gpd.GeoDataFrame(index=[0], crs=crs, geometry=[polygon_geom])     \n"
   ]
  }
 ],
 "metadata": {
  "kernelspec": {
   "display_name": "Python 3 (ipykernel)",
   "language": "python",
   "name": "python3"
  },
  "language_info": {
   "codemirror_mode": {
    "name": "ipython",
    "version": 3
   },
   "file_extension": ".py",
   "mimetype": "text/x-python",
   "name": "python",
   "nbconvert_exporter": "python",
   "pygments_lexer": "ipython3",
   "version": "3.8.12"
  }
 },
 "nbformat": 4,
 "nbformat_minor": 5
}
